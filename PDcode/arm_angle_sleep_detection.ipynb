{
 "cells": [
  {
   "cell_type": "code",
   "execution_count": 2,
   "id": "1e085dee",
   "metadata": {},
   "outputs": [],
   "source": [
    "import numpy as np\n",
    "import pandas as pd\n",
    "import math as m\n",
    "import matplotlib.pyplot as plt\n",
    "import glob\n",
    "from datetime import timedelta"
   ]
  },
  {
   "cell_type": "code",
   "execution_count": 6,
   "id": "3066060d",
   "metadata": {},
   "outputs": [
    {
     "data": {
      "text/html": [
       "<div>\n",
       "<style scoped>\n",
       "    .dataframe tbody tr th:only-of-type {\n",
       "        vertical-align: middle;\n",
       "    }\n",
       "\n",
       "    .dataframe tbody tr th {\n",
       "        vertical-align: top;\n",
       "    }\n",
       "\n",
       "    .dataframe thead th {\n",
       "        text-align: right;\n",
       "    }\n",
       "</style>\n",
       "<table border=\"1\" class=\"dataframe\">\n",
       "  <thead>\n",
       "    <tr style=\"text-align: right;\">\n",
       "      <th></th>\n",
       "      <th>t</th>\n",
       "      <th>x</th>\n",
       "      <th>y</th>\n",
       "      <th>z</th>\n",
       "      <th>classification</th>\n",
       "      <th>arm_angle</th>\n",
       "    </tr>\n",
       "  </thead>\n",
       "  <tbody>\n",
       "    <tr>\n",
       "      <th>0</th>\n",
       "      <td>2021-03-14 23:59:47.627</td>\n",
       "      <td>-1.056</td>\n",
       "      <td>0.256</td>\n",
       "      <td>-0.096</td>\n",
       "      <td>Wake</td>\n",
       "      <td>-5.048973</td>\n",
       "    </tr>\n",
       "    <tr>\n",
       "      <th>1</th>\n",
       "      <td>2021-03-14 23:59:47.667</td>\n",
       "      <td>-1.056</td>\n",
       "      <td>0.256</td>\n",
       "      <td>-0.096</td>\n",
       "      <td>Wake</td>\n",
       "      <td>-5.048973</td>\n",
       "    </tr>\n",
       "    <tr>\n",
       "      <th>2</th>\n",
       "      <td>2021-03-14 23:59:47.697</td>\n",
       "      <td>-1.056</td>\n",
       "      <td>0.256</td>\n",
       "      <td>-0.064</td>\n",
       "      <td>Wake</td>\n",
       "      <td>-3.370827</td>\n",
       "    </tr>\n",
       "    <tr>\n",
       "      <th>3</th>\n",
       "      <td>2021-03-14 23:59:47.737</td>\n",
       "      <td>-1.024</td>\n",
       "      <td>0.256</td>\n",
       "      <td>-0.096</td>\n",
       "      <td>Wake</td>\n",
       "      <td>-5.196802</td>\n",
       "    </tr>\n",
       "    <tr>\n",
       "      <th>4</th>\n",
       "      <td>2021-03-14 23:59:47.767</td>\n",
       "      <td>-1.056</td>\n",
       "      <td>0.256</td>\n",
       "      <td>-0.064</td>\n",
       "      <td>Wake</td>\n",
       "      <td>-3.370827</td>\n",
       "    </tr>\n",
       "  </tbody>\n",
       "</table>\n",
       "</div>"
      ],
      "text/plain": [
       "                        t      x      y      z classification  arm_angle\n",
       "0 2021-03-14 23:59:47.627 -1.056  0.256 -0.096           Wake  -5.048973\n",
       "1 2021-03-14 23:59:47.667 -1.056  0.256 -0.096           Wake  -5.048973\n",
       "2 2021-03-14 23:59:47.697 -1.056  0.256 -0.064           Wake  -3.370827\n",
       "3 2021-03-14 23:59:47.737 -1.024  0.256 -0.096           Wake  -5.196802\n",
       "4 2021-03-14 23:59:47.767 -1.056  0.256 -0.064           Wake  -3.370827"
      ]
     },
     "execution_count": 6,
     "metadata": {},
     "output_type": "execute_result"
    }
   ],
   "source": [
    "df = pd.read_csv('C:/Users/ale/Documents/Tec/PD sensor extracted data/PDdata/2021-03-15/PD_left.csv')\n",
    "df['t'] = pd.to_datetime(df['t'])\n",
    "df = df.drop(columns=['change'])\n",
    "df.head()"
   ]
  },
  {
   "cell_type": "code",
   "execution_count": 8,
   "id": "176ef50d",
   "metadata": {},
   "outputs": [
    {
     "data": {
      "text/html": [
       "<div>\n",
       "<style scoped>\n",
       "    .dataframe tbody tr th:only-of-type {\n",
       "        vertical-align: middle;\n",
       "    }\n",
       "\n",
       "    .dataframe tbody tr th {\n",
       "        vertical-align: top;\n",
       "    }\n",
       "\n",
       "    .dataframe thead th {\n",
       "        text-align: right;\n",
       "    }\n",
       "</style>\n",
       "<table border=\"1\" class=\"dataframe\">\n",
       "  <thead>\n",
       "    <tr style=\"text-align: right;\">\n",
       "      <th></th>\n",
       "      <th>t</th>\n",
       "      <th>arm_angle</th>\n",
       "    </tr>\n",
       "  </thead>\n",
       "  <tbody>\n",
       "    <tr>\n",
       "      <th>0</th>\n",
       "      <td>2021-03-14 23:55:00</td>\n",
       "      <td>-4.055758</td>\n",
       "    </tr>\n",
       "    <tr>\n",
       "      <th>1</th>\n",
       "      <td>2021-03-15 00:00:00</td>\n",
       "      <td>-4.026036</td>\n",
       "    </tr>\n",
       "    <tr>\n",
       "      <th>2</th>\n",
       "      <td>2021-03-15 00:05:00</td>\n",
       "      <td>-4.012065</td>\n",
       "    </tr>\n",
       "    <tr>\n",
       "      <th>3</th>\n",
       "      <td>2021-03-15 00:10:00</td>\n",
       "      <td>-4.016301</td>\n",
       "    </tr>\n",
       "    <tr>\n",
       "      <th>4</th>\n",
       "      <td>2021-03-15 00:15:00</td>\n",
       "      <td>-4.028930</td>\n",
       "    </tr>\n",
       "  </tbody>\n",
       "</table>\n",
       "</div>"
      ],
      "text/plain": [
       "                    t  arm_angle\n",
       "0 2021-03-14 23:55:00  -4.055758\n",
       "1 2021-03-15 00:00:00  -4.026036\n",
       "2 2021-03-15 00:05:00  -4.012065\n",
       "3 2021-03-15 00:10:00  -4.016301\n",
       "4 2021-03-15 00:15:00  -4.028930"
      ]
     },
     "execution_count": 8,
     "metadata": {},
     "output_type": "execute_result"
    }
   ],
   "source": [
    "df['t'] = df['t'].astype('datetime64[s]')\n",
    "df1 = df.groupby('t', as_index=False)['arm_angle'].mean()\n",
    "x = df1.resample('5min', on='t').arm_angle.mean()\n",
    "df2 = x.reset_index()\n",
    "df2.head()"
   ]
  },
  {
   "cell_type": "code",
   "execution_count": 14,
   "id": "d1cde390",
   "metadata": {},
   "outputs": [],
   "source": [
    "change = []\n",
    "for i in range(len(df2)):\n",
    "    try:\n",
    "        delta = df2['arm_angle'][i] - df2['arm_angle'][i-1]\n",
    "        change.append(delta)\n",
    "    except KeyError:\n",
    "        change.append(np.nan)\n",
    "df2['change'] = change"
   ]
  },
  {
   "cell_type": "code",
   "execution_count": 15,
   "id": "43a8570e",
   "metadata": {
    "scrolled": true
   },
   "outputs": [
    {
     "name": "stdout",
     "output_type": "stream",
     "text": [
      "['Sleep', 'Sleep', 'Sleep', 'Sleep', 'Sleep', 'Sleep', 'Sleep', 'Sleep', 'Sleep', 'Sleep', 'Sleep', 'Sleep', 'Sleep', 'Sleep', 'Sleep', 'Sleep', 'Sleep', 'Sleep', 'Sleep', 'Sleep', 'Sleep', 'Sleep', 'Sleep', 'Sleep', 'Sleep', 'Sleep', 'Sleep', 'Sleep', 'Sleep', 'Sleep', 'Sleep', 'Sleep', 'Sleep', 'Sleep', 'Sleep', 'Sleep', 'Sleep', 'Sleep', 'Sleep', 'Sleep', 'Sleep', 'Sleep', 'Sleep', 'Sleep', 'Sleep', 'Sleep', 'Sleep', 'Sleep', 'Sleep', 'Sleep', 'Sleep', 'Sleep', 'Sleep', 'Sleep', 'Sleep', 'Sleep', 'Sleep', 'Sleep', 'Sleep', 'Sleep', 'Sleep', 'Sleep', 'Sleep', 'Sleep', 'Sleep', 'Sleep', 'Sleep', 'Sleep', 'Sleep', 'Sleep', 'Sleep', 'Sleep', 'Sleep', 'Sleep', 'Sleep', 'Sleep', 'Sleep', 'Sleep', 'Sleep', 'Sleep', 'Sleep', 'Sleep', 'Sleep', 'Sleep', 'Sleep', 'Sleep', 'Sleep', 'Sleep', 'Sleep', 'Sleep', 'Sleep', 'Sleep', 'Sleep', 'Sleep', 'Sleep', 'Sleep', 'Sleep', 'Sleep', 'Sleep', 'Sleep', 'Sleep', 'Sleep', 'Sleep', 'Sleep', 'Sleep', 'Sleep', 'Sleep', 'Wake', 'Wake', 'Sleep', 'Sleep', 'Sleep', 'Sleep', 'Sleep', 'Wake', 'Sleep', 'Sleep', 'Sleep', 'Sleep', 'Sleep', 'Sleep', 'Sleep', 'Sleep', 'Sleep', 'Sleep', 'Sleep', 'Sleep', 'Sleep', 'Wake', 'Wake', 'Sleep', 'Sleep', 'Sleep', 'Sleep', 'Sleep', 'Sleep', 'Sleep', 'Sleep', 'Sleep', 'Sleep', 'Sleep', 'Sleep', 'Sleep', 'Sleep', 'Sleep', 'Sleep', 'Sleep', 'Sleep', 'Sleep', 'Sleep', 'Sleep', 'Sleep', 'Sleep', 'Sleep', 'Sleep', 'Sleep', 'Sleep', 'Sleep', 'Sleep', 'Sleep', 'Sleep', 'Sleep', 'Sleep', 'Sleep', 'Wake', 'Wake', 'Sleep', 'Sleep', 'Sleep', 'Sleep', 'Sleep', 'Sleep', 'Sleep', 'Sleep', 'Sleep', 'Sleep', 'Sleep', 'Sleep', 'Sleep', 'Wake', 'Wake', 'Wake', 'Wake', 'Sleep', 'Wake', 'Wake', 'Wake', 'Wake', 'Sleep', 'Sleep', 'Wake', 'Wake', 'Wake', 'Wake', 'Wake', 'Wake', 'Wake', 'Wake', 'Wake', 'Wake', 'Sleep', 'Wake', 'Sleep', 'Wake', 'Wake', 'Sleep', 'Wake', 'Sleep', 'Wake', 'Sleep', 'Sleep', 'Wake', 'Wake', 'Wake', 'Sleep', 'Sleep', 'Wake', 'Wake', 'Wake', 'Wake', 'Wake', 'Wake', 'Wake', 'Sleep', 'Wake', 'Wake', 'Wake', 'Wake', 'Sleep', 'Sleep', 'Sleep', 'Sleep', 'Sleep', 'Sleep', 'Sleep', 'Wake', 'Wake', 'Wake', 'Wake', 'Wake', 'Wake', 'Sleep', 'Wake', 'Wake', 'Wake', 'Sleep', 'Sleep', 'Wake', 'Sleep', 'Wake', 'Wake', 'Wake', 'Wake', 'Wake', 'Wake', 'Wake', 'Wake', 'Wake', 'Wake', 'Sleep', 'Sleep', 'Sleep', 'Sleep', 'Sleep', 'Wake', 'Wake', 'Wake', 'Sleep', 'Wake', 'Wake', 'Sleep', 'Wake', 'Sleep', 'Wake', 'Sleep', 'Wake', 'Wake', 'Sleep', 'Wake', 'Wake', 'Sleep', 'Wake', 'Sleep', 'Wake', 'Wake', 'Sleep', 'Wake', 'Wake', 'Sleep']\n"
     ]
    }
   ],
   "source": [
    "classification = []\n",
    "for i in range(len(df2)):\n",
    "    if abs(df2['change'].iloc[i]) > 5:\n",
    "        classification.append('Wake')\n",
    "    else:\n",
    "        classification.append('Sleep')\n",
    "print(classification)"
   ]
  },
  {
   "cell_type": "code",
   "execution_count": null,
   "id": "cfa4799a",
   "metadata": {},
   "outputs": [],
   "source": []
  }
 ],
 "metadata": {
  "kernelspec": {
   "display_name": "Python 3",
   "language": "python",
   "name": "python3"
  },
  "language_info": {
   "codemirror_mode": {
    "name": "ipython",
    "version": 3
   },
   "file_extension": ".py",
   "mimetype": "text/x-python",
   "name": "python",
   "nbconvert_exporter": "python",
   "pygments_lexer": "ipython3",
   "version": "3.8.8"
  }
 },
 "nbformat": 4,
 "nbformat_minor": 5
}
