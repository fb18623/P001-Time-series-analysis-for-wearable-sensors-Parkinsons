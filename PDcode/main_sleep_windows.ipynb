{
 "cells": [
  {
   "cell_type": "code",
   "execution_count": 1,
   "id": "c229bdf0",
   "metadata": {},
   "outputs": [],
   "source": [
    "import numpy as np\n",
    "import pandas as pd\n",
    "import math as m\n",
    "import matplotlib.pyplot as plt"
   ]
  },
  {
   "cell_type": "code",
   "execution_count": 62,
   "id": "c6a07f28",
   "metadata": {},
   "outputs": [],
   "source": [
    "data1 = pd.read_csv('C:/Users/ale/Documents/Tec/PD sensor extracted data/PDdata/2021-03-15/PD_left.csv')\n",
    "data2 = pd.read_csv('C:/Users/ale/Documents/Tec/PD sensor extracted data/PDdata/2021-03-16/PD_left.csv')\n",
    "data3 = pd.read_csv('C:/Users/ale/Documents/Tec/PD sensor extracted data/PDdata/2021-03-17/PD_left.csv')\n",
    "data4 = pd.read_csv('C:/Users/ale/Documents/Tec/PD sensor extracted data/PDdata/2021-03-18/PD_left.csv')"
   ]
  },
  {
   "cell_type": "code",
   "execution_count": 63,
   "id": "8bd6a2eb",
   "metadata": {},
   "outputs": [],
   "source": [
    "frames = [data1, data2, data3, data4]\n",
    "alldata = pd.concat(frames)\n",
    "alldata = alldata.reset_index(drop=True)\n",
    "alldata['t'] = pd.to_datetime(alldata['t'])"
   ]
  },
  {
   "cell_type": "code",
   "execution_count": 55,
   "id": "d54597c6",
   "metadata": {},
   "outputs": [],
   "source": [
    "startdate = pd.to_datetime('2021-03-15 22:30:00.000')\n",
    "enddate = pd.to_datetime('2021-03-16 09:00:00.000')\n",
    "\n",
    "mask = (alldata['t'] > startdate) & (alldata['t'] <= enddate)\n",
    "sleep_1 =alldata.loc[mask]"
   ]
  },
  {
   "cell_type": "code",
   "execution_count": 56,
   "id": "0702b4ab",
   "metadata": {},
   "outputs": [],
   "source": [
    "startdate = pd.to_datetime('2021-03-16 22:30:00.000')\n",
    "enddate = pd.to_datetime('2021-03-17 09:00:00.000')\n",
    "\n",
    "mask = (alldata['t'] > startdate) & (alldata['t'] <= enddate)\n",
    "sleep_2 =alldata.loc[mask]"
   ]
  },
  {
   "cell_type": "code",
   "execution_count": 57,
   "id": "1258bdaf",
   "metadata": {},
   "outputs": [],
   "source": [
    "startdate = pd.to_datetime('2021-03-17 22:30:00.000')\n",
    "enddate = pd.to_datetime('2021-03-18 09:00:00.000')\n",
    "\n",
    "mask = (alldata['t'] > startdate) & (alldata['t'] <= enddate)\n",
    "sleep_3 =alldata.loc[mask]"
   ]
  },
  {
   "cell_type": "code",
   "execution_count": 64,
   "id": "e92c29c1",
   "metadata": {},
   "outputs": [],
   "source": [
    "startdate = pd.to_datetime('2021-03-18 23:00:00.000')\n",
    "enddate = pd.to_datetime('2021-03-19 00:00:00.000')\n",
    "\n",
    "mask = (alldata['t'] > startdate) & (alldata['t'] <= enddate)\n",
    "sleep_4 =alldata.loc[mask]"
   ]
  },
  {
   "cell_type": "code",
   "execution_count": 65,
   "id": "01b83809",
   "metadata": {},
   "outputs": [],
   "source": [
    "#sleep_1.to_csv('C:/Users/ale/Documents/Tec/PD sensor extracted data/main_sleep/15-16/sleepCN.csv', index = False)\n",
    "#sleep_2.to_csv('C:/Users/ale/Documents/Tec/PD sensor extracted data/main_sleep/16-17/sleepCN.csv', index = False)\n",
    "#sleep_3.to_csv('C:/Users/ale/Documents/Tec/PD sensor extracted data/main_sleep/17-18/sleepCN.csv', index = False)\n",
    "#sleep_4.to_csv('C:/Users/ale/Documents/Tec/PD sensor extracted data/main_sleep/18/sleepPD.csv', index = False)"
   ]
  },
  {
   "cell_type": "code",
   "execution_count": null,
   "id": "f23cfb8d",
   "metadata": {},
   "outputs": [],
   "source": []
  }
 ],
 "metadata": {
  "kernelspec": {
   "display_name": "Python 3",
   "language": "python",
   "name": "python3"
  },
  "language_info": {
   "codemirror_mode": {
    "name": "ipython",
    "version": 3
   },
   "file_extension": ".py",
   "mimetype": "text/x-python",
   "name": "python",
   "nbconvert_exporter": "python",
   "pygments_lexer": "ipython3",
   "version": "3.8.8"
  }
 },
 "nbformat": 4,
 "nbformat_minor": 5
}
